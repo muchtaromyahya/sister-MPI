{
 "cells": [
  {
   "cell_type": "code",
   "execution_count": null,
   "metadata": {},
   "outputs": [],
   "source": [
    "# import mpi4py\n",
    "from mpi4py import MPI\n",
    "\n",
    "# import library random untuk generate angka integer secara random\n",
    "import random\n",
    "\n",
    "# buat COMM\n",
    "comm = MPI.COMM_WORLD\n",
    "\n",
    "# dapatkan rank proses\n",
    "rank = comm.Get_rank()\n",
    "\n",
    "# dapatkan total proses berjalan\n",
    "size = comm.Get_size()\n",
    "\n",
    "# generate angka integer secara random untuk setiap proses\n",
    "angka = int(random.uniform(1, 100))\n",
    "print(angka)\n",
    "\n",
    "# jika saya adalah proses dengan rank 0 maka:\n",
    "# saya menerima nilai dari proses 1 s.d proses dengan rank terbesar\n",
    "# menjumlah semua nilai yang didapat (termasuk nilai proses saya)\n",
    "if rank == 0:\n",
    "    sum = angka\n",
    "    for i in range(1, size):\n",
    "        received = comm.recv(source=i)\n",
    "        sum += received\n",
    "    print(\"JUMLAHNYA = \" + str(sum))\n",
    "# jika bukan proses dengan rank 0, saya akan mengirimkan nilai proses saya ke proses dengan rank=0\n",
    "else:\n",
    "    comm.send(angka, dest=0)"
   ]
  }
 ],
 "metadata": {
  "kernelspec": {
   "display_name": "Python 3",
   "language": "python",
   "name": "python3"
  },
  "language_info": {
   "codemirror_mode": {
    "name": "ipython",
    "version": 3
   },
   "file_extension": ".py",
   "mimetype": "text/x-python",
   "name": "python",
   "nbconvert_exporter": "python",
   "pygments_lexer": "ipython3",
   "version": "3.7.4"
  }
 },
 "nbformat": 4,
 "nbformat_minor": 2
}
