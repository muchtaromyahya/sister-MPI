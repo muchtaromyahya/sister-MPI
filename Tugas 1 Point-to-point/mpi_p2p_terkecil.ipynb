{
 "cells": [
  {
   "cell_type": "code",
   "execution_count": null,
   "metadata": {},
   "outputs": [],
   "source": [
    "# import mpi4py\n",
    "from mpi4py import MPI\n",
    "\n",
    "# buat COMM\n",
    "comm = MPI.COMM_WORLD\n",
    "\n",
    "# dapatkan rank proses\n",
    "rank = comm.Get_rank()\n",
    "\n",
    "# dapatkan total proses berjalan\n",
    "size = comm.Get_size()\n",
    "\n",
    "# jika saya rank ke 0 maka saya akan mengirimkan pesan ke proses yang mempunyai rank 1 s.d size\n",
    "if rank == 0:\n",
    "    for i in range(1, size):\n",
    "        comm.send(\"Hello rank \"+str(i), dest=i)\n",
    "\n",
    "# jika saya bukan rank 0 maka saya menerima pesan yang berasal dari proses dengan rank 0\n",
    "else:\n",
    "    received = comm.recv(source=0)\n",
    "    print(received)"
   ]
  }
 ],
 "metadata": {
  "kernelspec": {
   "display_name": "Python 3",
   "language": "python",
   "name": "python3"
  },
  "language_info": {
   "codemirror_mode": {
    "name": "ipython",
    "version": 3
   },
   "file_extension": ".py",
   "mimetype": "text/x-python",
   "name": "python",
   "nbconvert_exporter": "python",
   "pygments_lexer": "ipython3",
   "version": "3.7.4"
  }
 },
 "nbformat": 4,
 "nbformat_minor": 2
}
