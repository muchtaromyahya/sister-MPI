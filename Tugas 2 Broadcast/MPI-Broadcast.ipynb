{
 "cells": [
  {
   "cell_type": "code",
   "execution_count": null,
   "metadata": {},
   "outputs": [],
   "source": [
    "# import mpi4py\n",
    "from mpi4py import MPI\n",
    "\n",
    "# buat COMM\n",
    "comm = MPI.COMM_WORLD\n",
    "\n",
    "# dapatkan rank proses\n",
    "rank = comm.Get_rank()\n",
    "\n",
    "# dapatkan total proses berjalan\n",
    "size = comm.Get_size()\n",
    "\n",
    "# jika saya rank 0 maka saya akan melakukan broadscast\n",
    "if rank == 0:\n",
    "    comm.bcast(\"Hello from rank 0\", root = 0)\n",
    "\t\n",
    "# jika saya bukan rank 0 maka saya menerima pesan\n",
    "else:\n",
    "    received = comm.bcast(\"\", root = 0)\n",
    "    print(\"Rank \" + str(rank) + \" received message: \" + received)"
   ]
  }
 ],
 "metadata": {
  "kernelspec": {
   "display_name": "Python 3",
   "language": "python",
   "name": "python3"
  },
  "language_info": {
   "codemirror_mode": {
    "name": "ipython",
    "version": 3
   },
   "file_extension": ".py",
   "mimetype": "text/x-python",
   "name": "python",
   "nbconvert_exporter": "python",
   "pygments_lexer": "ipython3",
   "version": "3.7.4"
  }
 },
 "nbformat": 4,
 "nbformat_minor": 2
}
